{
 "cells": [
  {
   "cell_type": "markdown",
   "id": "57338eef",
   "metadata": {},
   "source": [
    "### Dataset Description:\n",
    "The dataset is based on the “Statlog Dataset” from the UCI Machine Learning Repository. Columns of the dataset and their meaning are as follows;\n",
    "\n",
    "Age (numeric)\n",
    "\n",
    "Sex (text: male, female)\n",
    "\n",
    "Job (numeric: 0 - unskilled and non-resident, 1 - unskilled and resident, 2 - skilled, 3 - highly skilled)\n",
    "\n",
    "Housing (text: own, rent, or free)\n",
    "\n",
    "Saving accounts (text - little, moderate, quite rich, rich)\n",
    "\n",
    "Checking account (text - little, moderate, rich)\n",
    "\n",
    "Credit amount (numeric, in Deutsche Mark)\n",
    "\n",
    "Duration (numeric, in month)\n",
    "\n",
    "Purpose (text: car, furniture/equipment, radio/TV, domestic appliances, repairs, education, business, vacation/others\n",
    "\n",
    "#### Skewness in Data\n",
    "\n",
    "If the skewness is between -0.5 and 0.5, the data are fairly symmetrical If the skewness is between -1 and – 0.5 or between 0.5 and 1, the data are moderately skewed If the skewness is less than -1 or greater than 1, the data are highly skewed."
   ]
  },
  {
   "cell_type": "code",
   "execution_count": 257,
   "id": "4d1cea6b",
   "metadata": {},
   "outputs": [],
   "source": [
    "#importing libraries\n",
    "import numpy as np\n",
    "import pandas as pd\n",
    "import matplotlib.pyplot as plt\n",
    "import seaborn as sns"
   ]
  },
  {
   "cell_type": "code",
   "execution_count": 258,
   "id": "3dd734fe",
   "metadata": {},
   "outputs": [],
   "source": [
    "gcd=pd.read_csv(r\"C:\\Users\\Nikhil\\Downloads\\german_credit_data (2).csv\") #reading dataset"
   ]
  },
  {
   "cell_type": "code",
   "execution_count": 259,
   "id": "308afd90",
   "metadata": {},
   "outputs": [
    {
     "data": {
      "text/html": [
       "<div>\n",
       "<style scoped>\n",
       "    .dataframe tbody tr th:only-of-type {\n",
       "        vertical-align: middle;\n",
       "    }\n",
       "\n",
       "    .dataframe tbody tr th {\n",
       "        vertical-align: top;\n",
       "    }\n",
       "\n",
       "    .dataframe thead th {\n",
       "        text-align: right;\n",
       "    }\n",
       "</style>\n",
       "<table border=\"1\" class=\"dataframe\">\n",
       "  <thead>\n",
       "    <tr style=\"text-align: right;\">\n",
       "      <th></th>\n",
       "      <th>Unnamed: 0</th>\n",
       "      <th>Age</th>\n",
       "      <th>Sex</th>\n",
       "      <th>Job</th>\n",
       "      <th>Housing</th>\n",
       "      <th>Saving accounts</th>\n",
       "      <th>Checking account</th>\n",
       "      <th>Credit amount</th>\n",
       "      <th>Duration</th>\n",
       "      <th>Purpose</th>\n",
       "    </tr>\n",
       "  </thead>\n",
       "  <tbody>\n",
       "    <tr>\n",
       "      <th>0</th>\n",
       "      <td>0</td>\n",
       "      <td>67</td>\n",
       "      <td>male</td>\n",
       "      <td>2</td>\n",
       "      <td>own</td>\n",
       "      <td>NaN</td>\n",
       "      <td>little</td>\n",
       "      <td>1169</td>\n",
       "      <td>6</td>\n",
       "      <td>radio/TV</td>\n",
       "    </tr>\n",
       "    <tr>\n",
       "      <th>1</th>\n",
       "      <td>1</td>\n",
       "      <td>22</td>\n",
       "      <td>female</td>\n",
       "      <td>2</td>\n",
       "      <td>own</td>\n",
       "      <td>little</td>\n",
       "      <td>moderate</td>\n",
       "      <td>5951</td>\n",
       "      <td>48</td>\n",
       "      <td>radio/TV</td>\n",
       "    </tr>\n",
       "    <tr>\n",
       "      <th>2</th>\n",
       "      <td>2</td>\n",
       "      <td>49</td>\n",
       "      <td>male</td>\n",
       "      <td>1</td>\n",
       "      <td>own</td>\n",
       "      <td>little</td>\n",
       "      <td>NaN</td>\n",
       "      <td>2096</td>\n",
       "      <td>12</td>\n",
       "      <td>education</td>\n",
       "    </tr>\n",
       "    <tr>\n",
       "      <th>3</th>\n",
       "      <td>3</td>\n",
       "      <td>45</td>\n",
       "      <td>male</td>\n",
       "      <td>2</td>\n",
       "      <td>free</td>\n",
       "      <td>little</td>\n",
       "      <td>little</td>\n",
       "      <td>7882</td>\n",
       "      <td>42</td>\n",
       "      <td>furniture/equipment</td>\n",
       "    </tr>\n",
       "    <tr>\n",
       "      <th>4</th>\n",
       "      <td>4</td>\n",
       "      <td>53</td>\n",
       "      <td>male</td>\n",
       "      <td>2</td>\n",
       "      <td>free</td>\n",
       "      <td>little</td>\n",
       "      <td>little</td>\n",
       "      <td>4870</td>\n",
       "      <td>24</td>\n",
       "      <td>car</td>\n",
       "    </tr>\n",
       "  </tbody>\n",
       "</table>\n",
       "</div>"
      ],
      "text/plain": [
       "   Unnamed: 0  Age     Sex  Job Housing Saving accounts Checking account  \\\n",
       "0           0   67    male    2     own             NaN           little   \n",
       "1           1   22  female    2     own          little         moderate   \n",
       "2           2   49    male    1     own          little              NaN   \n",
       "3           3   45    male    2    free          little           little   \n",
       "4           4   53    male    2    free          little           little   \n",
       "\n",
       "   Credit amount  Duration              Purpose  \n",
       "0           1169         6             radio/TV  \n",
       "1           5951        48             radio/TV  \n",
       "2           2096        12            education  \n",
       "3           7882        42  furniture/equipment  \n",
       "4           4870        24                  car  "
      ]
     },
     "execution_count": 259,
     "metadata": {},
     "output_type": "execute_result"
    }
   ],
   "source": [
    "gcd.head() #getting peak of upper 5 observations"
   ]
  },
  {
   "cell_type": "code",
   "execution_count": 260,
   "id": "4b1fd3c3",
   "metadata": {
    "scrolled": true
   },
   "outputs": [
    {
     "data": {
      "text/html": [
       "<div>\n",
       "<style scoped>\n",
       "    .dataframe tbody tr th:only-of-type {\n",
       "        vertical-align: middle;\n",
       "    }\n",
       "\n",
       "    .dataframe tbody tr th {\n",
       "        vertical-align: top;\n",
       "    }\n",
       "\n",
       "    .dataframe thead th {\n",
       "        text-align: right;\n",
       "    }\n",
       "</style>\n",
       "<table border=\"1\" class=\"dataframe\">\n",
       "  <thead>\n",
       "    <tr style=\"text-align: right;\">\n",
       "      <th></th>\n",
       "      <th>Unnamed: 0</th>\n",
       "      <th>Age</th>\n",
       "      <th>Sex</th>\n",
       "      <th>Job</th>\n",
       "      <th>Housing</th>\n",
       "      <th>Saving accounts</th>\n",
       "      <th>Checking account</th>\n",
       "      <th>Credit amount</th>\n",
       "      <th>Duration</th>\n",
       "      <th>Purpose</th>\n",
       "    </tr>\n",
       "  </thead>\n",
       "  <tbody>\n",
       "    <tr>\n",
       "      <th>995</th>\n",
       "      <td>995</td>\n",
       "      <td>31</td>\n",
       "      <td>female</td>\n",
       "      <td>1</td>\n",
       "      <td>own</td>\n",
       "      <td>little</td>\n",
       "      <td>NaN</td>\n",
       "      <td>1736</td>\n",
       "      <td>12</td>\n",
       "      <td>furniture/equipment</td>\n",
       "    </tr>\n",
       "    <tr>\n",
       "      <th>996</th>\n",
       "      <td>996</td>\n",
       "      <td>40</td>\n",
       "      <td>male</td>\n",
       "      <td>3</td>\n",
       "      <td>own</td>\n",
       "      <td>little</td>\n",
       "      <td>little</td>\n",
       "      <td>3857</td>\n",
       "      <td>30</td>\n",
       "      <td>car</td>\n",
       "    </tr>\n",
       "    <tr>\n",
       "      <th>997</th>\n",
       "      <td>997</td>\n",
       "      <td>38</td>\n",
       "      <td>male</td>\n",
       "      <td>2</td>\n",
       "      <td>own</td>\n",
       "      <td>little</td>\n",
       "      <td>NaN</td>\n",
       "      <td>804</td>\n",
       "      <td>12</td>\n",
       "      <td>radio/TV</td>\n",
       "    </tr>\n",
       "    <tr>\n",
       "      <th>998</th>\n",
       "      <td>998</td>\n",
       "      <td>23</td>\n",
       "      <td>male</td>\n",
       "      <td>2</td>\n",
       "      <td>free</td>\n",
       "      <td>little</td>\n",
       "      <td>little</td>\n",
       "      <td>1845</td>\n",
       "      <td>45</td>\n",
       "      <td>radio/TV</td>\n",
       "    </tr>\n",
       "    <tr>\n",
       "      <th>999</th>\n",
       "      <td>999</td>\n",
       "      <td>27</td>\n",
       "      <td>male</td>\n",
       "      <td>2</td>\n",
       "      <td>own</td>\n",
       "      <td>moderate</td>\n",
       "      <td>moderate</td>\n",
       "      <td>4576</td>\n",
       "      <td>45</td>\n",
       "      <td>car</td>\n",
       "    </tr>\n",
       "  </tbody>\n",
       "</table>\n",
       "</div>"
      ],
      "text/plain": [
       "     Unnamed: 0  Age     Sex  Job Housing Saving accounts Checking account  \\\n",
       "995         995   31  female    1     own          little              NaN   \n",
       "996         996   40    male    3     own          little           little   \n",
       "997         997   38    male    2     own          little              NaN   \n",
       "998         998   23    male    2    free          little           little   \n",
       "999         999   27    male    2     own        moderate         moderate   \n",
       "\n",
       "     Credit amount  Duration              Purpose  \n",
       "995           1736        12  furniture/equipment  \n",
       "996           3857        30                  car  \n",
       "997            804        12             radio/TV  \n",
       "998           1845        45             radio/TV  \n",
       "999           4576        45                  car  "
      ]
     },
     "execution_count": 260,
     "metadata": {},
     "output_type": "execute_result"
    }
   ],
   "source": [
    "gcd.tail() #getting peak of lower 5 observations"
   ]
  },
  {
   "cell_type": "code",
   "execution_count": 261,
   "id": "b496fd7d",
   "metadata": {},
   "outputs": [
    {
     "data": {
      "text/plain": [
       "(1000, 10)"
      ]
     },
     "execution_count": 261,
     "metadata": {},
     "output_type": "execute_result"
    }
   ],
   "source": [
    "gcd.shape #getting shape of dataframe"
   ]
  },
  {
   "cell_type": "markdown",
   "id": "4e4d9190",
   "metadata": {},
   "source": [
    "The dataset contains 1000 observations and 10 variables."
   ]
  },
  {
   "cell_type": "code",
   "execution_count": 262,
   "id": "1cb45789",
   "metadata": {
    "scrolled": true
   },
   "outputs": [
    {
     "name": "stdout",
     "output_type": "stream",
     "text": [
      "<class 'pandas.core.frame.DataFrame'>\n",
      "RangeIndex: 1000 entries, 0 to 999\n",
      "Data columns (total 10 columns):\n",
      " #   Column            Non-Null Count  Dtype \n",
      "---  ------            --------------  ----- \n",
      " 0   Unnamed: 0        1000 non-null   int64 \n",
      " 1   Age               1000 non-null   int64 \n",
      " 2   Sex               1000 non-null   object\n",
      " 3   Job               1000 non-null   int64 \n",
      " 4   Housing           1000 non-null   object\n",
      " 5   Saving accounts   817 non-null    object\n",
      " 6   Checking account  606 non-null    object\n",
      " 7   Credit amount     1000 non-null   int64 \n",
      " 8   Duration          1000 non-null   int64 \n",
      " 9   Purpose           1000 non-null   object\n",
      "dtypes: int64(5), object(5)\n",
      "memory usage: 58.7+ KB\n"
     ]
    }
   ],
   "source": [
    "gcd.info()"
   ]
  },
  {
   "cell_type": "markdown",
   "id": "252a58dd",
   "metadata": {},
   "source": [
    "The dataset contains 10 variables of which two has missing values. \n",
    "Saving accounts and Checking account contains missing values."
   ]
  },
  {
   "cell_type": "code",
   "execution_count": 263,
   "id": "b696280f",
   "metadata": {},
   "outputs": [
    {
     "data": {
      "text/plain": [
       "Unnamed: 0            0\n",
       "Age                   0\n",
       "Sex                   0\n",
       "Job                   0\n",
       "Housing               0\n",
       "Saving accounts     183\n",
       "Checking account    394\n",
       "Credit amount         0\n",
       "Duration              0\n",
       "Purpose               0\n",
       "dtype: int64"
      ]
     },
     "execution_count": 263,
     "metadata": {},
     "output_type": "execute_result"
    }
   ],
   "source": [
    "gcd.isnull().sum() #checking number of null values"
   ]
  },
  {
   "cell_type": "markdown",
   "id": "6c66db5d",
   "metadata": {},
   "source": [
    "It can be seen, Saving accounts has 183 null values and Checking account has 394 null values."
   ]
  },
  {
   "cell_type": "markdown",
   "id": "69aa4b17",
   "metadata": {},
   "source": [
    "### Handling Missing Values"
   ]
  },
  {
   "cell_type": "code",
   "execution_count": 264,
   "id": "0b58e4a8",
   "metadata": {},
   "outputs": [
    {
     "data": {
      "text/plain": [
       "array([nan, 'little', 'little', 'little', 'little', nan, 'quite rich',\n",
       "       'little', 'rich', 'little', 'little', 'little', 'little', 'little',\n",
       "       'little', 'moderate', nan, nan, 'little', 'quite rich', 'little',\n",
       "       'quite rich', 'little', 'moderate', nan, 'little', 'little',\n",
       "       'rich', 'little', 'little', 'rich', 'little', 'moderate', nan,\n",
       "       'little', 'little', 'little', 'little', 'little', 'little',\n",
       "       'quite rich', 'quite rich', 'little', 'moderate', 'little',\n",
       "       'little', 'quite rich', 'quite rich', 'little', 'moderate', nan,\n",
       "       'little', 'little', nan, 'little', nan, nan, 'little', 'little',\n",
       "       'little', 'little', nan, 'little', 'little', 'little', nan,\n",
       "       'little', 'rich', 'little', nan, 'little', nan, 'little', 'little',\n",
       "       nan, 'little', 'little', 'little', nan, 'little', nan,\n",
       "       'quite rich', 'moderate', 'little', 'little', 'little', 'little',\n",
       "       'moderate', 'moderate', 'little', 'little', 'little', nan, nan,\n",
       "       'rich', 'little', nan, 'moderate', 'little', nan, 'moderate',\n",
       "       'little', 'little', 'little', nan, 'little', 'little', 'little',\n",
       "       nan, 'quite rich', 'moderate', 'little', 'little', 'little',\n",
       "       'quite rich', nan, nan, nan, 'quite rich', 'quite rich', 'little',\n",
       "       'little', 'little', 'little', nan, 'little', 'little', 'little',\n",
       "       'little', 'little', nan, 'little', 'little', 'little', 'moderate',\n",
       "       nan, 'rich', 'quite rich', nan, 'little', 'rich', 'little',\n",
       "       'little', 'little', 'little', 'moderate', 'little', 'moderate',\n",
       "       'little', 'rich', 'moderate', 'little', 'little', 'rich',\n",
       "       'moderate', 'little', 'moderate', 'little', 'moderate', nan,\n",
       "       'moderate', 'little', 'quite rich', 'little', 'quite rich',\n",
       "       'quite rich', 'little', 'rich', 'little', 'little', 'little',\n",
       "       'little', 'little', 'little', 'little', nan, 'little',\n",
       "       'quite rich', 'little', 'little', 'little', 'little', nan, 'rich',\n",
       "       'little', 'little', 'little', 'little', 'moderate', 'little',\n",
       "       'rich', 'moderate', 'little', 'little', 'moderate', 'little',\n",
       "       'little', 'moderate', nan, 'little', 'quite rich', 'little',\n",
       "       'little', 'little', 'little', 'little', 'little', 'little',\n",
       "       'little', 'rich', nan, nan, 'little', 'little', nan, nan, 'little',\n",
       "       'little', 'little', 'little', 'little', nan, 'little', nan,\n",
       "       'little', 'little', 'rich', 'little', 'little', 'little', 'little',\n",
       "       'quite rich', 'moderate', 'little', 'little', 'little', nan,\n",
       "       'moderate', 'little', 'little', nan, 'little', 'little', 'little',\n",
       "       'quite rich', 'little', 'little', 'moderate', 'little', 'little',\n",
       "       'rich', 'little', 'little', 'moderate', nan, nan, 'little',\n",
       "       'little', 'moderate', 'moderate', 'little', 'little', 'little',\n",
       "       'little', 'little', 'little', nan, 'little', 'little', nan, nan,\n",
       "       'quite rich', nan, 'little', 'little', 'little', 'little', nan,\n",
       "       'little', 'moderate', 'rich', 'little', nan, nan, 'moderate',\n",
       "       'little', 'little', 'moderate', 'little', 'little', 'little',\n",
       "       'little', 'little', 'little', nan, 'little', nan, nan, 'little',\n",
       "       'rich', 'little', 'little', nan, 'little', 'quite rich', 'rich',\n",
       "       nan, 'moderate', 'little', 'little', nan, 'moderate', 'little',\n",
       "       'little', nan, 'little', 'little', nan, 'little', 'little',\n",
       "       'little', 'little', 'little', 'rich', 'little', 'little', nan,\n",
       "       'rich', 'little', 'little', 'little', 'moderate', 'moderate',\n",
       "       'moderate', 'little', 'little', 'little', nan, 'little', 'little',\n",
       "       'little', 'little', 'quite rich', 'little', 'little', 'little',\n",
       "       'little', 'quite rich', 'moderate', 'rich', 'little', 'little',\n",
       "       nan, 'little', 'quite rich', 'little', nan, 'little', 'little',\n",
       "       'little', nan, nan, 'little', 'little', 'little', 'little',\n",
       "       'little', 'little', 'little', 'little', nan, 'little', 'little',\n",
       "       nan, 'moderate', 'little', 'little', nan, 'little', 'moderate',\n",
       "       nan, 'little', nan, 'little', 'moderate', 'little', nan, 'little',\n",
       "       'quite rich', 'little', 'little', 'rich', 'little', 'little',\n",
       "       'little', 'moderate', 'little', 'little', 'little', 'rich',\n",
       "       'little', nan, 'little', 'little', nan, 'little', nan, 'little',\n",
       "       'quite rich', 'quite rich', 'little', 'little', 'little',\n",
       "       'quite rich', nan, 'little', 'little', nan, 'quite rich', nan,\n",
       "       'rich', nan, 'little', 'moderate', nan, 'little', 'little', 'rich',\n",
       "       'little', 'little', 'little', 'little', 'little', 'little',\n",
       "       'little', nan, 'quite rich', 'rich', 'little', 'little', 'little',\n",
       "       'little', 'little', 'little', 'little', nan, 'little', 'little',\n",
       "       nan, 'rich', nan, 'little', 'little', 'little', 'little', 'little',\n",
       "       'little', 'little', 'little', 'little', 'little', 'little',\n",
       "       'little', nan, 'little', 'little', 'little', nan, 'little',\n",
       "       'little', 'moderate', 'little', 'little', nan, 'little', 'little',\n",
       "       'quite rich', 'little', 'moderate', 'little', 'little', 'little',\n",
       "       'rich', 'rich', 'quite rich', 'little', 'little', 'little',\n",
       "       'moderate', 'little', 'little', 'little', 'moderate', nan,\n",
       "       'little', nan, 'moderate', 'little', 'little', 'moderate',\n",
       "       'little', 'little', 'moderate', 'moderate', 'little', nan,\n",
       "       'quite rich', 'moderate', 'little', 'moderate', 'little', 'little',\n",
       "       'little', 'little', nan, 'little', 'little', 'little', 'moderate',\n",
       "       nan, 'little', 'little', 'little', 'moderate', 'little', 'little',\n",
       "       'moderate', 'little', 'little', 'little', 'little', 'moderate',\n",
       "       'little', 'moderate', nan, 'little', nan, 'little', 'little',\n",
       "       'little', 'little', 'little', nan, 'little', 'little', 'little',\n",
       "       'little', 'little', 'little', nan, nan, 'quite rich', 'little',\n",
       "       'moderate', 'little', 'little', 'moderate', nan, 'little',\n",
       "       'little', nan, 'little', 'little', nan, nan, 'moderate', 'little',\n",
       "       'rich', nan, 'little', 'little', 'little', nan, 'little', 'little',\n",
       "       'little', 'little', nan, 'little', 'little', 'little', 'little',\n",
       "       'little', 'little', nan, 'little', 'little', 'little', 'little',\n",
       "       'little', 'little', nan, 'rich', 'little', nan, 'moderate',\n",
       "       'little', 'little', 'little', 'little', 'little', 'little',\n",
       "       'little', 'little', 'little', 'quite rich', 'little', 'moderate',\n",
       "       'little', nan, 'moderate', 'moderate', 'rich', 'little', 'little',\n",
       "       nan, nan, 'little', 'moderate', 'little', 'little', 'little', nan,\n",
       "       'little', 'little', nan, 'little', 'moderate', 'quite rich', nan,\n",
       "       'little', 'little', nan, 'little', 'little', 'little',\n",
       "       'quite rich', 'little', 'little', 'little', 'little', 'little',\n",
       "       'moderate', 'little', 'little', nan, 'little', 'quite rich',\n",
       "       'little', 'little', 'little', 'little', 'little', 'moderate',\n",
       "       'little', 'little', 'little', nan, 'little', 'little', 'little',\n",
       "       nan, 'little', 'little', 'little', 'little', 'rich', 'little',\n",
       "       'little', 'little', 'moderate', 'moderate', 'little', 'quite rich',\n",
       "       'quite rich', 'little', 'little', 'moderate', 'little', 'little',\n",
       "       'little', nan, 'little', 'little', 'moderate', nan, nan,\n",
       "       'moderate', 'moderate', 'rich', 'little', 'moderate', 'moderate',\n",
       "       nan, 'little', 'quite rich', 'little', 'little', 'little',\n",
       "       'little', 'quite rich', 'little', 'moderate', 'moderate', 'little',\n",
       "       'quite rich', 'moderate', 'little', 'little', 'little',\n",
       "       'quite rich', 'little', nan, 'little', 'little', nan, nan,\n",
       "       'little', nan, 'moderate', 'little', 'rich', 'little',\n",
       "       'quite rich', 'little', 'rich', 'quite rich', 'little', 'little',\n",
       "       'rich', 'little', 'little', 'little', 'rich', 'little', nan,\n",
       "       'little', 'moderate', 'little', 'moderate', 'moderate', 'little',\n",
       "       nan, 'quite rich', nan, 'little', 'little', 'little', nan,\n",
       "       'little', 'little', 'little', 'moderate', 'little', 'rich', nan,\n",
       "       'little', nan, 'little', 'little', nan, 'little', 'little', nan,\n",
       "       'moderate', 'little', 'little', nan, 'little', 'little', nan,\n",
       "       'little', 'little', 'moderate', 'quite rich', nan, 'little',\n",
       "       'little', 'rich', 'little', 'little', 'rich', 'little', 'moderate',\n",
       "       nan, 'rich', 'quite rich', nan, 'little', 'little', 'little', nan,\n",
       "       nan, 'little', 'quite rich', 'moderate', nan, 'little', nan, nan,\n",
       "       'little', 'little', 'little', nan, nan, 'little', 'little', nan,\n",
       "       'little', 'little', 'little', 'little', 'little', 'little',\n",
       "       'little', 'little', 'quite rich', 'little', 'little', 'little',\n",
       "       'little', 'little', 'little', 'little', 'little', 'little',\n",
       "       'little', 'little', nan, nan, 'quite rich', 'little', 'little',\n",
       "       nan, 'little', 'little', nan, 'little', 'little', 'little',\n",
       "       'little', 'little', 'little', 'little', 'little', nan, nan,\n",
       "       'little', 'little', 'little', 'little', nan, 'little', 'little',\n",
       "       'little', 'moderate', nan, 'little', 'little', 'moderate', 'rich',\n",
       "       'little', 'little', 'rich', 'little', 'quite rich', 'little',\n",
       "       'little', nan, 'little', 'quite rich', 'little', 'moderate', nan,\n",
       "       'little', 'rich', 'little', 'little', 'little', nan, 'little', nan,\n",
       "       nan, 'little', 'little', 'little', nan, 'little', 'little', nan,\n",
       "       'little', 'little', 'little', 'little', nan, nan, 'little', 'rich',\n",
       "       nan, 'little', 'little', nan, nan, nan, 'little', 'little', nan,\n",
       "       nan, 'little', nan, 'little', 'little', nan, 'rich', 'little',\n",
       "       'little', 'moderate', 'little', 'moderate', 'little', 'little',\n",
       "       'quite rich', 'little', 'little', 'little', 'little', 'little',\n",
       "       'little', nan, 'little', 'little', 'little', 'little',\n",
       "       'quite rich', 'little', 'moderate', 'little', 'little', 'little',\n",
       "       nan, nan, 'little', nan, 'little', 'little', 'quite rich',\n",
       "       'quite rich', nan, 'little', 'moderate', 'little', 'little',\n",
       "       'quite rich', 'little', 'little', 'rich', nan, 'little', 'little',\n",
       "       'moderate', 'little', 'little', nan, 'quite rich', 'little', nan,\n",
       "       'quite rich', 'little', nan, 'little', 'moderate', 'little',\n",
       "       'little', 'little', 'little', 'quite rich', 'little', nan,\n",
       "       'little', 'moderate', 'little', 'little', 'moderate', 'little',\n",
       "       'little', 'little', 'little', 'moderate', 'little', 'little', nan,\n",
       "       'moderate', nan, 'little', nan, 'little', 'little', 'little',\n",
       "       'little', 'moderate'], dtype=object)"
      ]
     },
     "execution_count": 264,
     "metadata": {},
     "output_type": "execute_result"
    }
   ],
   "source": [
    "gcd['Saving accounts'].values #to check the values of Saving accounts"
   ]
  },
  {
   "cell_type": "markdown",
   "id": "4462b75d",
   "metadata": {},
   "source": [
    "It can be seen, the null values are present in the Saving accounts."
   ]
  },
  {
   "cell_type": "code",
   "execution_count": 265,
   "id": "837cc597",
   "metadata": {},
   "outputs": [
    {
     "data": {
      "image/png": "[encoded data removed]",
      "text/plain": [
       "<Figure size 432x288 with 1 Axes>"
      ]
     },
     "metadata": {
      "needs_background": "light"
     },
     "output_type": "display_data"
    }
   ],
   "source": [
    "#To check the distribution of values in Saving accounts\n",
    "sns.countplot(x='Saving accounts',data=gcd)\n",
    "plt.show()"
   ]
  },
  {
   "cell_type": "markdown",
   "id": "205f9adf",
   "metadata": {},
   "source": [
    "The 'little' in Saving accounts has maximum number of distribution. Hence, it is possible to use mode of the Saving accounts and fill the null values."
   ]
  },
  {
   "cell_type": "code",
   "execution_count": 266,
   "id": "f0b832a9",
   "metadata": {},
   "outputs": [
    {
     "data": {
      "text/plain": [
       "0    little\n",
       "dtype: object"
      ]
     },
     "execution_count": 266,
     "metadata": {},
     "output_type": "execute_result"
    }
   ],
   "source": [
    "gcd['Saving accounts'].mode() #rechecking the mode of the Saving accounts variable"
   ]
  },
  {
   "cell_type": "code",
   "execution_count": 267,
   "id": "49ff4026",
   "metadata": {},
   "outputs": [],
   "source": [
    "gcd['Saving accounts'].fillna('little',inplace=True) #Filling null values with the mode of the Saving accounts"
   ]
  },
  {
   "cell_type": "code",
   "execution_count": 268,
   "id": "975c2829",
   "metadata": {},
   "outputs": [
    {
     "name": "stdout",
     "output_type": "stream",
     "text": [
      "<class 'pandas.core.frame.DataFrame'>\n",
      "RangeIndex: 1000 entries, 0 to 999\n",
      "Data columns (total 10 columns):\n",
      " #   Column            Non-Null Count  Dtype \n",
      "---  ------            --------------  ----- \n",
      " 0   Unnamed: 0        1000 non-null   int64 \n",
      " 1   Age               1000 non-null   int64 \n",
      " 2   Sex               1000 non-null   object\n",
      " 3   Job               1000 non-null   int64 \n",
      " 4   Housing           1000 non-null   object\n",
      " 5   Saving accounts   1000 non-null   object\n",
      " 6   Checking account  606 non-null    object\n",
      " 7   Credit amount     1000 non-null   int64 \n",
      " 8   Duration          1000 non-null   int64 \n",
      " 9   Purpose           1000 non-null   object\n",
      "dtypes: int64(5), object(5)\n",
      "memory usage: 58.7+ KB\n"
     ]
    }
   ],
   "source": [
    "gcd.info() #Checking the total values in the Saving accounts variable"
   ]
  },
  {
   "cell_type": "markdown",
   "id": "8bee4ac1",
   "metadata": {},
   "source": [
    "It can be seen that there are no more missing or null values in the "
   ]
  },
  {
   "cell_type": "code",
   "execution_count": 269,
   "id": "e6986097",
   "metadata": {},
   "outputs": [
    {
     "data": {
      "text/plain": [
       "array(['little', 'little', 'little', 'little', 'little', 'little',\n",
       "       'quite rich', 'little', 'rich', 'little', 'little', 'little',\n",
       "       'little', 'little', 'little', 'moderate', 'little', 'little',\n",
       "       'little', 'quite rich', 'little', 'quite rich', 'little',\n",
       "       'moderate', 'little', 'little', 'little', 'rich', 'little',\n",
       "       'little', 'rich', 'little', 'moderate', 'little', 'little',\n",
       "       'little', 'little', 'little', 'little', 'little', 'quite rich',\n",
       "       'quite rich', 'little', 'moderate', 'little', 'little',\n",
       "       'quite rich', 'quite rich', 'little', 'moderate', 'little',\n",
       "       'little', 'little', 'little', 'little', 'little', 'little',\n",
       "       'little', 'little', 'little', 'little', 'little', 'little',\n",
       "       'little', 'little', 'little', 'little', 'rich', 'little', 'little',\n",
       "       'little', 'little', 'little', 'little', 'little', 'little',\n",
       "       'little', 'little', 'little', 'little', 'little', 'quite rich',\n",
       "       'moderate', 'little', 'little', 'little', 'little', 'moderate',\n",
       "       'moderate', 'little', 'little', 'little', 'little', 'little',\n",
       "       'rich', 'little', 'little', 'moderate', 'little', 'little',\n",
       "       'moderate', 'little', 'little', 'little', 'little', 'little',\n",
       "       'little', 'little', 'little', 'quite rich', 'moderate', 'little',\n",
       "       'little', 'little', 'quite rich', 'little', 'little', 'little',\n",
       "       'quite rich', 'quite rich', 'little', 'little', 'little', 'little',\n",
       "       'little', 'little', 'little', 'little', 'little', 'little',\n",
       "       'little', 'little', 'little', 'little', 'moderate', 'little',\n",
       "       'rich', 'quite rich', 'little', 'little', 'rich', 'little',\n",
       "       'little', 'little', 'little', 'moderate', 'little', 'moderate',\n",
       "       'little', 'rich', 'moderate', 'little', 'little', 'rich',\n",
       "       'moderate', 'little', 'moderate', 'little', 'moderate', 'little',\n",
       "       'moderate', 'little', 'quite rich', 'little', 'quite rich',\n",
       "       'quite rich', 'little', 'rich', 'little', 'little', 'little',\n",
       "       'little', 'little', 'little', 'little', 'little', 'little',\n",
       "       'quite rich', 'little', 'little', 'little', 'little', 'little',\n",
       "       'rich', 'little', 'little', 'little', 'little', 'moderate',\n",
       "       'little', 'rich', 'moderate', 'little', 'little', 'moderate',\n",
       "       'little', 'little', 'moderate', 'little', 'little', 'quite rich',\n",
       "       'little', 'little', 'little', 'little', 'little', 'little',\n",
       "       'little', 'little', 'rich', 'little', 'little', 'little', 'little',\n",
       "       'little', 'little', 'little', 'little', 'little', 'little',\n",
       "       'little', 'little', 'little', 'little', 'little', 'little', 'rich',\n",
       "       'little', 'little', 'little', 'little', 'quite rich', 'moderate',\n",
       "       'little', 'little', 'little', 'little', 'moderate', 'little',\n",
       "       'little', 'little', 'little', 'little', 'little', 'quite rich',\n",
       "       'little', 'little', 'moderate', 'little', 'little', 'rich',\n",
       "       'little', 'little', 'moderate', 'little', 'little', 'little',\n",
       "       'little', 'moderate', 'moderate', 'little', 'little', 'little',\n",
       "       'little', 'little', 'little', 'little', 'little', 'little',\n",
       "       'little', 'little', 'quite rich', 'little', 'little', 'little',\n",
       "       'little', 'little', 'little', 'little', 'moderate', 'rich',\n",
       "       'little', 'little', 'little', 'moderate', 'little', 'little',\n",
       "       'moderate', 'little', 'little', 'little', 'little', 'little',\n",
       "       'little', 'little', 'little', 'little', 'little', 'little', 'rich',\n",
       "       'little', 'little', 'little', 'little', 'quite rich', 'rich',\n",
       "       'little', 'moderate', 'little', 'little', 'little', 'moderate',\n",
       "       'little', 'little', 'little', 'little', 'little', 'little',\n",
       "       'little', 'little', 'little', 'little', 'little', 'rich', 'little',\n",
       "       'little', 'little', 'rich', 'little', 'little', 'little',\n",
       "       'moderate', 'moderate', 'moderate', 'little', 'little', 'little',\n",
       "       'little', 'little', 'little', 'little', 'little', 'quite rich',\n",
       "       'little', 'little', 'little', 'little', 'quite rich', 'moderate',\n",
       "       'rich', 'little', 'little', 'little', 'little', 'quite rich',\n",
       "       'little', 'little', 'little', 'little', 'little', 'little',\n",
       "       'little', 'little', 'little', 'little', 'little', 'little',\n",
       "       'little', 'little', 'little', 'little', 'little', 'little',\n",
       "       'little', 'moderate', 'little', 'little', 'little', 'little',\n",
       "       'moderate', 'little', 'little', 'little', 'little', 'moderate',\n",
       "       'little', 'little', 'little', 'quite rich', 'little', 'little',\n",
       "       'rich', 'little', 'little', 'little', 'moderate', 'little',\n",
       "       'little', 'little', 'rich', 'little', 'little', 'little', 'little',\n",
       "       'little', 'little', 'little', 'little', 'quite rich', 'quite rich',\n",
       "       'little', 'little', 'little', 'quite rich', 'little', 'little',\n",
       "       'little', 'little', 'quite rich', 'little', 'rich', 'little',\n",
       "       'little', 'moderate', 'little', 'little', 'little', 'rich',\n",
       "       'little', 'little', 'little', 'little', 'little', 'little',\n",
       "       'little', 'little', 'quite rich', 'rich', 'little', 'little',\n",
       "       'little', 'little', 'little', 'little', 'little', 'little',\n",
       "       'little', 'little', 'little', 'rich', 'little', 'little', 'little',\n",
       "       'little', 'little', 'little', 'little', 'little', 'little',\n",
       "       'little', 'little', 'little', 'little', 'little', 'little',\n",
       "       'little', 'little', 'little', 'little', 'little', 'moderate',\n",
       "       'little', 'little', 'little', 'little', 'little', 'quite rich',\n",
       "       'little', 'moderate', 'little', 'little', 'little', 'rich', 'rich',\n",
       "       'quite rich', 'little', 'little', 'little', 'moderate', 'little',\n",
       "       'little', 'little', 'moderate', 'little', 'little', 'little',\n",
       "       'moderate', 'little', 'little', 'moderate', 'little', 'little',\n",
       "       'moderate', 'moderate', 'little', 'little', 'quite rich',\n",
       "       'moderate', 'little', 'moderate', 'little', 'little', 'little',\n",
       "       'little', 'little', 'little', 'little', 'little', 'moderate',\n",
       "       'little', 'little', 'little', 'little', 'moderate', 'little',\n",
       "       'little', 'moderate', 'little', 'little', 'little', 'little',\n",
       "       'moderate', 'little', 'moderate', 'little', 'little', 'little',\n",
       "       'little', 'little', 'little', 'little', 'little', 'little',\n",
       "       'little', 'little', 'little', 'little', 'little', 'little',\n",
       "       'little', 'little', 'quite rich', 'little', 'moderate', 'little',\n",
       "       'little', 'moderate', 'little', 'little', 'little', 'little',\n",
       "       'little', 'little', 'little', 'little', 'moderate', 'little',\n",
       "       'rich', 'little', 'little', 'little', 'little', 'little', 'little',\n",
       "       'little', 'little', 'little', 'little', 'little', 'little',\n",
       "       'little', 'little', 'little', 'little', 'little', 'little',\n",
       "       'little', 'little', 'little', 'little', 'little', 'little', 'rich',\n",
       "       'little', 'little', 'moderate', 'little', 'little', 'little',\n",
       "       'little', 'little', 'little', 'little', 'little', 'little',\n",
       "       'quite rich', 'little', 'moderate', 'little', 'little', 'moderate',\n",
       "       'moderate', 'rich', 'little', 'little', 'little', 'little',\n",
       "       'little', 'moderate', 'little', 'little', 'little', 'little',\n",
       "       'little', 'little', 'little', 'little', 'moderate', 'quite rich',\n",
       "       'little', 'little', 'little', 'little', 'little', 'little',\n",
       "       'little', 'quite rich', 'little', 'little', 'little', 'little',\n",
       "       'little', 'moderate', 'little', 'little', 'little', 'little',\n",
       "       'quite rich', 'little', 'little', 'little', 'little', 'little',\n",
       "       'moderate', 'little', 'little', 'little', 'little', 'little',\n",
       "       'little', 'little', 'little', 'little', 'little', 'little',\n",
       "       'little', 'rich', 'little', 'little', 'little', 'moderate',\n",
       "       'moderate', 'little', 'quite rich', 'quite rich', 'little',\n",
       "       'little', 'moderate', 'little', 'little', 'little', 'little',\n",
       "       'little', 'little', 'moderate', 'little', 'little', 'moderate',\n",
       "       'moderate', 'rich', 'little', 'moderate', 'moderate', 'little',\n",
       "       'little', 'quite rich', 'little', 'little', 'little', 'little',\n",
       "       'quite rich', 'little', 'moderate', 'moderate', 'little',\n",
       "       'quite rich', 'moderate', 'little', 'little', 'little',\n",
       "       'quite rich', 'little', 'little', 'little', 'little', 'little',\n",
       "       'little', 'little', 'little', 'moderate', 'little', 'rich',\n",
       "       'little', 'quite rich', 'little', 'rich', 'quite rich', 'little',\n",
       "       'little', 'rich', 'little', 'little', 'little', 'rich', 'little',\n",
       "       'little', 'little', 'moderate', 'little', 'moderate', 'moderate',\n",
       "       'little', 'little', 'quite rich', 'little', 'little', 'little',\n",
       "       'little', 'little', 'little', 'little', 'little', 'moderate',\n",
       "       'little', 'rich', 'little', 'little', 'little', 'little', 'little',\n",
       "       'little', 'little', 'little', 'little', 'moderate', 'little',\n",
       "       'little', 'little', 'little', 'little', 'little', 'little',\n",
       "       'little', 'moderate', 'quite rich', 'little', 'little', 'little',\n",
       "       'rich', 'little', 'little', 'rich', 'little', 'moderate', 'little',\n",
       "       'rich', 'quite rich', 'little', 'little', 'little', 'little',\n",
       "       'little', 'little', 'little', 'quite rich', 'moderate', 'little',\n",
       "       'little', 'little', 'little', 'little', 'little', 'little',\n",
       "       'little', 'little', 'little', 'little', 'little', 'little',\n",
       "       'little', 'little', 'little', 'little', 'little', 'little',\n",
       "       'little', 'quite rich', 'little', 'little', 'little', 'little',\n",
       "       'little', 'little', 'little', 'little', 'little', 'little',\n",
       "       'little', 'little', 'little', 'quite rich', 'little', 'little',\n",
       "       'little', 'little', 'little', 'little', 'little', 'little',\n",
       "       'little', 'little', 'little', 'little', 'little', 'little',\n",
       "       'little', 'little', 'little', 'little', 'little', 'little',\n",
       "       'little', 'little', 'little', 'little', 'moderate', 'little',\n",
       "       'little', 'little', 'moderate', 'rich', 'little', 'little', 'rich',\n",
       "       'little', 'quite rich', 'little', 'little', 'little', 'little',\n",
       "       'quite rich', 'little', 'moderate', 'little', 'little', 'rich',\n",
       "       'little', 'little', 'little', 'little', 'little', 'little',\n",
       "       'little', 'little', 'little', 'little', 'little', 'little',\n",
       "       'little', 'little', 'little', 'little', 'little', 'little',\n",
       "       'little', 'little', 'little', 'rich', 'little', 'little', 'little',\n",
       "       'little', 'little', 'little', 'little', 'little', 'little',\n",
       "       'little', 'little', 'little', 'little', 'little', 'little', 'rich',\n",
       "       'little', 'little', 'moderate', 'little', 'moderate', 'little',\n",
       "       'little', 'quite rich', 'little', 'little', 'little', 'little',\n",
       "       'little', 'little', 'little', 'little', 'little', 'little',\n",
       "       'little', 'quite rich', 'little', 'moderate', 'little', 'little',\n",
       "       'little', 'little', 'little', 'little', 'little', 'little',\n",
       "       'little', 'quite rich', 'quite rich', 'little', 'little',\n",
       "       'moderate', 'little', 'little', 'quite rich', 'little', 'little',\n",
       "       'rich', 'little', 'little', 'little', 'moderate', 'little',\n",
       "       'little', 'little', 'quite rich', 'little', 'little', 'quite rich',\n",
       "       'little', 'little', 'little', 'moderate', 'little', 'little',\n",
       "       'little', 'little', 'quite rich', 'little', 'little', 'little',\n",
       "       'moderate', 'little', 'little', 'moderate', 'little', 'little',\n",
       "       'little', 'little', 'moderate', 'little', 'little', 'little',\n",
       "       'moderate', 'little', 'little', 'little', 'little', 'little',\n",
       "       'little', 'little', 'moderate'], dtype=object)"
      ]
     },
     "execution_count": 269,
     "metadata": {},
     "output_type": "execute_result"
    }
   ],
   "source": [
    "gcd['Saving accounts'].values #Rechecking if there are any missing or null values in Saving accounts"
   ]
  },
  {
   "cell_type": "markdown",
   "id": "6c40a80a",
   "metadata": {},
   "source": [
    "The null values in the Saving accounts variable have been handled with the mode of the Saving accounts and shown."
   ]
  },
  {
   "cell_type": "code",
   "execution_count": 270,
   "id": "58d49282",
   "metadata": {},
   "outputs": [
    {
     "data": {
      "text/plain": [
       "array(['little', 'moderate', nan, 'little', 'little', nan, nan,\n",
       "       'moderate', nan, 'moderate', 'moderate', 'little', 'moderate',\n",
       "       'little', 'little', 'little', nan, 'little', 'moderate', nan, nan,\n",
       "       'little', 'little', 'moderate', nan, 'little', nan, 'rich',\n",
       "       'moderate', 'little', 'moderate', 'little', 'moderate', nan,\n",
       "       'rich', 'moderate', nan, 'rich', 'rich', 'moderate', nan,\n",
       "       'moderate', 'moderate', 'little', 'little', nan, nan, 'little',\n",
       "       nan, nan, 'moderate', 'moderate', nan, nan, 'moderate', nan,\n",
       "       'moderate', nan, 'rich', 'little', 'moderate', 'moderate',\n",
       "       'moderate', 'moderate', nan, nan, nan, 'moderate', nan, nan, nan,\n",
       "       nan, 'little', 'moderate', 'little', 'little', 'little',\n",
       "       'moderate', nan, 'moderate', nan, nan, nan, 'little', 'little',\n",
       "       nan, 'moderate', 'moderate', 'little', 'little', nan, 'little',\n",
       "       nan, 'rich', 'moderate', 'moderate', nan, 'moderate', 'moderate',\n",
       "       'moderate', nan, 'moderate', nan, 'moderate', nan, 'moderate', nan,\n",
       "       'moderate', 'little', 'moderate', 'moderate', 'rich', 'moderate',\n",
       "       nan, 'little', nan, 'little', 'little', 'little', 'moderate',\n",
       "       'little', nan, nan, 'rich', 'moderate', 'little', 'little',\n",
       "       'moderate', 'moderate', 'little', 'moderate', 'little', nan, nan,\n",
       "       nan, nan, nan, 'moderate', 'moderate', 'rich', 'rich', 'moderate',\n",
       "       'little', 'little', nan, 'moderate', 'little', nan, 'little', nan,\n",
       "       nan, nan, 'rich', 'moderate', 'moderate', 'little', 'little',\n",
       "       'little', 'moderate', nan, nan, nan, nan, 'moderate', nan, nan,\n",
       "       'little', 'moderate', nan, 'moderate', 'little', nan, 'moderate',\n",
       "       'moderate', 'little', nan, 'little', 'little', nan, 'little', nan,\n",
       "       'moderate', 'little', nan, 'moderate', nan, 'moderate', 'moderate',\n",
       "       'little', 'moderate', nan, 'moderate', 'moderate', nan, 'moderate',\n",
       "       'moderate', nan, 'moderate', 'moderate', 'moderate', nan, 'little',\n",
       "       nan, 'little', nan, 'little', nan, 'moderate', 'little', nan, nan,\n",
       "       nan, 'little', 'rich', nan, 'moderate', 'little', 'rich', 'little',\n",
       "       nan, 'moderate', 'little', nan, nan, nan, nan, 'moderate',\n",
       "       'little', nan, 'little', 'rich', nan, nan, 'moderate', nan,\n",
       "       'little', 'moderate', 'moderate', nan, 'little', 'little', nan,\n",
       "       'little', nan, nan, nan, nan, nan, 'rich', nan, 'little', 'rich',\n",
       "       'moderate', nan, 'moderate', 'moderate', nan, 'little', nan, nan,\n",
       "       'little', 'little', 'little', nan, nan, 'moderate', nan, nan,\n",
       "       'little', nan, nan, nan, 'moderate', 'moderate', 'little', nan,\n",
       "       nan, 'little', nan, nan, nan, nan, 'rich', nan, 'moderate',\n",
       "       'little', 'little', 'moderate', 'moderate', 'little', nan,\n",
       "       'moderate', 'little', 'rich', nan, 'moderate', nan, nan, nan,\n",
       "       'moderate', nan, 'moderate', 'rich', 'little', nan, nan, nan,\n",
       "       'little', 'moderate', 'moderate', 'moderate', nan, 'rich',\n",
       "       'moderate', 'rich', 'little', 'little', 'moderate', nan, 'little',\n",
       "       'moderate', 'little', 'little', 'little', nan, 'little', nan, nan,\n",
       "       'rich', 'moderate', 'little', nan, 'moderate', nan, 'little',\n",
       "       'little', 'moderate', 'little', 'little', 'moderate', 'moderate',\n",
       "       'little', 'moderate', 'moderate', 'rich', nan, 'moderate',\n",
       "       'moderate', nan, 'moderate', nan, 'moderate', nan, 'little', nan,\n",
       "       'moderate', nan, nan, nan, 'little', 'moderate', 'rich', 'rich',\n",
       "       nan, 'little', nan, nan, 'little', 'little', 'moderate', nan, nan,\n",
       "       nan, nan, 'moderate', 'little', nan, nan, 'moderate', nan,\n",
       "       'little', 'moderate', nan, 'rich', nan, nan, nan, 'moderate',\n",
       "       'moderate', nan, nan, 'moderate', 'little', 'little', nan,\n",
       "       'moderate', 'little', 'little', 'moderate', nan, nan, 'moderate',\n",
       "       nan, nan, 'moderate', 'moderate', nan, 'little', nan, 'rich',\n",
       "       'moderate', nan, nan, nan, 'little', nan, 'little', 'little', nan,\n",
       "       'moderate', nan, 'moderate', 'moderate', nan, 'moderate',\n",
       "       'moderate', nan, nan, nan, 'little', nan, 'moderate', 'little',\n",
       "       nan, 'little', 'moderate', nan, nan, 'little', 'rich', nan,\n",
       "       'little', 'moderate', nan, 'moderate', nan, 'little', 'moderate',\n",
       "       'rich', 'moderate', nan, nan, nan, nan, 'little', nan, 'little',\n",
       "       'little', 'little', nan, 'little', 'little', 'moderate',\n",
       "       'moderate', nan, 'little', 'little', nan, nan, nan, 'moderate',\n",
       "       'little', 'little', nan, 'moderate', 'little', nan, 'rich',\n",
       "       'moderate', 'little', 'moderate', 'moderate', 'little', nan, nan,\n",
       "       'moderate', nan, nan, nan, nan, nan, 'moderate', nan, 'moderate',\n",
       "       'little', 'little', 'moderate', nan, 'moderate', 'rich', 'little',\n",
       "       'little', 'rich', 'moderate', 'little', nan, 'rich', 'moderate',\n",
       "       nan, nan, 'little', nan, 'rich', 'moderate', nan, 'little',\n",
       "       'little', nan, 'little', nan, nan, 'little', 'little', nan,\n",
       "       'moderate', 'moderate', nan, nan, 'little', 'little', 'moderate',\n",
       "       'moderate', nan, nan, nan, 'rich', 'little', 'moderate', 'little',\n",
       "       'rich', 'moderate', nan, 'little', 'rich', nan, 'little', nan, nan,\n",
       "       'little', nan, nan, nan, 'little', 'moderate', 'moderate',\n",
       "       'moderate', 'moderate', nan, 'little', 'moderate', 'little',\n",
       "       'little', 'rich', 'moderate', 'moderate', 'moderate', 'little',\n",
       "       nan, 'moderate', 'little', 'little', nan, nan, 'little',\n",
       "       'moderate', nan, 'moderate', nan, 'moderate', nan, 'moderate',\n",
       "       'moderate', nan, 'moderate', nan, 'little', 'little', 'little',\n",
       "       'little', 'little', 'little', 'moderate', nan, 'moderate',\n",
       "       'little', 'moderate', 'little', 'moderate', nan, nan, 'moderate',\n",
       "       'moderate', 'moderate', nan, 'rich', 'little', nan, 'moderate',\n",
       "       nan, nan, 'little', 'rich', 'little', 'little', nan, 'moderate',\n",
       "       'moderate', 'little', 'moderate', nan, 'moderate', nan, nan,\n",
       "       'little', 'little', nan, 'rich', 'moderate', nan, nan, 'little',\n",
       "       'little', 'moderate', nan, 'moderate', nan, nan, nan, nan,\n",
       "       'little', 'little', 'moderate', nan, nan, 'little', nan, 'little',\n",
       "       nan, 'rich', 'little', 'little', 'moderate', 'little', 'moderate',\n",
       "       nan, 'little', 'moderate', nan, 'moderate', 'moderate', 'rich',\n",
       "       'little', nan, 'moderate', 'rich', nan, 'moderate', nan, 'little',\n",
       "       'rich', nan, nan, nan, nan, nan, nan, nan, 'moderate', 'little',\n",
       "       nan, nan, nan, nan, nan, 'moderate', nan, 'rich', 'moderate', nan,\n",
       "       'little', 'little', 'moderate', 'moderate', 'little', nan, nan,\n",
       "       'moderate', nan, nan, 'rich', nan, 'little', 'rich', 'moderate',\n",
       "       'moderate', nan, 'moderate', 'moderate', 'moderate', 'moderate',\n",
       "       nan, 'little', nan, 'little', 'moderate', nan, nan, nan, 'rich',\n",
       "       'moderate', 'rich', 'moderate', 'little', 'moderate', nan, nan,\n",
       "       nan, 'little', 'moderate', 'rich', 'moderate', 'little',\n",
       "       'moderate', nan, nan, 'moderate', 'moderate', 'little', nan,\n",
       "       'moderate', 'little', 'moderate', nan, 'little', 'little',\n",
       "       'little', 'little', 'little', nan, nan, 'little', 'little',\n",
       "       'moderate', nan, nan, 'little', 'rich', 'rich', nan, 'little', nan,\n",
       "       'little', 'little', nan, nan, 'moderate', 'little', nan,\n",
       "       'moderate', nan, 'little', 'little', nan, nan, 'rich', 'little',\n",
       "       nan, 'little', nan, 'moderate', 'moderate', nan, 'moderate',\n",
       "       'moderate', 'moderate', 'moderate', nan, nan, 'moderate', 'little',\n",
       "       'moderate', nan, nan, 'rich', nan, nan, 'little', nan, nan,\n",
       "       'moderate', nan, 'moderate', 'little', nan, 'moderate', 'little',\n",
       "       'moderate', nan, 'moderate', 'moderate', 'moderate', 'moderate',\n",
       "       'little', 'little', 'little', 'moderate', nan, nan, 'little',\n",
       "       'little', nan, 'rich', 'little', 'little', nan, 'little', 'little',\n",
       "       nan, 'little', 'moderate', nan, 'little', 'little', 'moderate',\n",
       "       'rich', 'little', nan, nan, 'little', nan, 'little', nan, nan, nan,\n",
       "       nan, 'moderate', nan, nan, 'little', 'little', 'little', nan, nan,\n",
       "       'little', nan, nan, nan, nan, 'little', nan, nan, nan, 'little',\n",
       "       nan, nan, nan, 'little', nan, nan, 'little', nan, 'rich', 'little',\n",
       "       nan, 'little', 'moderate', 'little', nan, 'little', nan, nan, nan,\n",
       "       'moderate', nan, 'moderate', 'little', 'moderate', 'moderate', nan,\n",
       "       nan, 'little', nan, 'little', 'moderate', nan, nan, 'little', nan,\n",
       "       nan, 'little', 'little', nan, nan, nan, nan, 'little', 'little',\n",
       "       'moderate', nan, 'moderate', nan, 'moderate', 'moderate', nan,\n",
       "       'little', 'moderate', nan, 'little', 'little', 'little', nan, nan,\n",
       "       'little', 'moderate', 'little', 'little', 'little', 'little', nan,\n",
       "       'little', 'little', 'moderate', nan, nan, 'little', 'moderate',\n",
       "       'rich', 'moderate', 'moderate', nan, nan, nan, nan, nan, 'little',\n",
       "       'moderate', 'little', nan, nan, nan, 'moderate', 'little',\n",
       "       'moderate', nan, 'little', 'little', 'rich', 'moderate', 'little',\n",
       "       'moderate', nan, 'moderate', nan, nan, 'moderate', 'moderate',\n",
       "       'moderate', nan, nan, 'little', 'moderate', nan, 'little',\n",
       "       'little', nan, 'rich', 'moderate', 'moderate', nan, 'moderate',\n",
       "       'moderate', nan, 'rich', 'little', nan, 'little', 'rich', nan,\n",
       "       'little', 'moderate', nan, nan, 'little', 'little', nan, nan,\n",
       "       'little', nan, 'little', 'moderate'], dtype=object)"
      ]
     },
     "execution_count": 270,
     "metadata": {},
     "output_type": "execute_result"
    }
   ],
   "source": [
    "gcd['Checking account'].values #To check the values in the Current account"
   ]
  },
  {
   "cell_type": "markdown",
   "id": "46f79e25",
   "metadata": {},
   "source": [
    "It can be seen that there are null values present in the Current account variable."
   ]
  },
  {
   "cell_type": "code",
   "execution_count": 271,
   "id": "f1e397d6",
   "metadata": {
    "scrolled": true
   },
   "outputs": [
    {
     "data": {
      "image/png": "[encoded data removed]",
      "text/plain": [
       "<Figure size 432x288 with 1 Axes>"
      ]
     },
     "metadata": {
      "needs_background": "light"
     },
     "output_type": "display_data"
    }
   ],
   "source": [
    "sns.countplot(x='Checking account', data=gcd) #To check the distribution of values in Current account\n",
    "plt.show()"
   ]
  },
  {
   "cell_type": "markdown",
   "id": "fb926af3",
   "metadata": {},
   "source": [
    "It can be seen that, the 'little' and 'moderate' has nearly same number of distribution. Filling null values with mode of the Checking account would not be possible.\n",
    "\n",
    "Here, the Checking account, being the categorical data, has no contribution in the numerical relationship between other numerical variables hence it can be droped from the dataset. "
   ]
  },
  {
   "cell_type": "code",
   "execution_count": 272,
   "id": "583bdd59",
   "metadata": {},
   "outputs": [],
   "source": [
    "gcd_drop=gcd.drop(['Checking account','Unnamed: 0'],axis=1) #dropping The Checking account from dataset and unnecessary variables"
   ]
  },
  {
   "cell_type": "code",
   "execution_count": 273,
   "id": "340575b4",
   "metadata": {
    "scrolled": true
   },
   "outputs": [
    {
     "name": "stdout",
     "output_type": "stream",
     "text": [
      "<class 'pandas.core.frame.DataFrame'>\n",
      "RangeIndex: 1000 entries, 0 to 999\n",
      "Data columns (total 8 columns):\n",
      " #   Column           Non-Null Count  Dtype \n",
      "---  ------           --------------  ----- \n",
      " 0   Age              1000 non-null   int64 \n",
      " 1   Sex              1000 non-null   object\n",
      " 2   Job              1000 non-null   int64 \n",
      " 3   Housing          1000 non-null   object\n",
      " 4   Saving accounts  1000 non-null   object\n",
      " 5   Credit amount    1000 non-null   int64 \n",
      " 6   Duration         1000 non-null   int64 \n",
      " 7   Purpose          1000 non-null   object\n",
      "dtypes: int64(4), object(4)\n",
      "memory usage: 46.9+ KB\n"
     ]
    }
   ],
   "source": [
    "gcd_drop.info() #Checing if the dataset has Checking account"
   ]
  },
  {
   "cell_type": "markdown",
   "id": "a17a3079",
   "metadata": {},
   "source": [
    "All the missing values have been handled.\n",
    "There are no missing values in the dataset now.\n",
    "\n",
    "Here the Job variable is categorical but it has been read as numeric. So it must be changed to object data type."
   ]
  },
  {
   "cell_type": "code",
   "execution_count": 274,
   "id": "5e903adb",
   "metadata": {},
   "outputs": [],
   "source": [
    "gcd_drop['Job']=gcd_drop['Job'].map(str) #changing the data type of Job"
   ]
  },
  {
   "cell_type": "code",
   "execution_count": 275,
   "id": "b9613b27",
   "metadata": {
    "scrolled": true
   },
   "outputs": [
    {
     "data": {
      "text/plain": [
       "Age                 int64\n",
       "Sex                object\n",
       "Job                object\n",
       "Housing            object\n",
       "Saving accounts    object\n",
       "Credit amount       int64\n",
       "Duration            int64\n",
       "Purpose            object\n",
       "dtype: object"
      ]
     },
     "execution_count": 275,
     "metadata": {},
     "output_type": "execute_result"
    }
   ],
   "source": [
    "gcd_drop.dtypes #Rechecking the data type of the variables"
   ]
  },
  {
   "cell_type": "markdown",
   "id": "eb4853bb",
   "metadata": {},
   "source": [
    "The data type of the Job variable has been corrected."
   ]
  },
  {
   "cell_type": "markdown",
   "id": "25551c5a",
   "metadata": {},
   "source": [
    "### Distribution of Numeric Variables"
   ]
  },
  {
   "cell_type": "code",
   "execution_count": 276,
   "id": "05194e13",
   "metadata": {},
   "outputs": [
    {
     "data": {
      "image/png": "[encoded data removed]",
      "text/plain": [
       "<Figure size 720x504 with 4 Axes>"
      ]
     },
     "metadata": {
      "needs_background": "light"
     },
     "output_type": "display_data"
    }
   ],
   "source": [
    "gcd_drop.hist(figsize=(10,7)) #Checking distribution of all numeric variables\n",
    "plt.show()"
   ]
  },
  {
   "cell_type": "markdown",
   "id": "98711ab5",
   "metadata": {},
   "source": [
    "From the distribution of numeric variables it can be seen that, all the numeric variable distribution are right skewed."
   ]
  },
  {
   "cell_type": "code",
   "execution_count": 277,
   "id": "fd29bcf3",
   "metadata": {
    "scrolled": true
   },
   "outputs": [
    {
     "data": {
      "text/plain": [
       "Age              1.020739\n",
       "Job             -0.374295\n",
       "Credit amount    1.949628\n",
       "Duration         1.094184\n",
       "dtype: float64"
      ]
     },
     "execution_count": 277,
     "metadata": {},
     "output_type": "execute_result"
    }
   ],
   "source": [
    "gcd_drop.skew() #To check the Skewness of the variable"
   ]
  },
  {
   "cell_type": "markdown",
   "id": "a782073d",
   "metadata": {},
   "source": [
    "##### Skewness in Data\n",
    "\n",
    "If the skewness is between -0.5 and 0.5, the data are fairly symmetrical If the skewness is between -1 and – 0.5 or between 0.5 and 1, the data are moderately skewed If the skewness is less than -1 or greater than 1, the data are highly skewed."
   ]
  },
  {
   "cell_type": "markdown",
   "id": "59dfd53c",
   "metadata": {},
   "source": [
    "| Variable | Skewness |\n",
    "|---|---|\n",
    "| Age | Highly Right Skewed |\n",
    "| Credit amount | Highly Right Skewed |\n",
    "| Duration | Highly Right Skewed |"
   ]
  },
  {
   "cell_type": "markdown",
   "id": "7660bfc4",
   "metadata": {},
   "source": [
    "#### Handling Skewed Numeric Data"
   ]
  },
  {
   "cell_type": "code",
   "execution_count": 278,
   "id": "fc77d487",
   "metadata": {},
   "outputs": [
    {
     "data": {
      "image/png": "[encoded data removed]",
      "text/plain": [
       "<Figure size 360x360 with 1 Axes>"
      ]
     },
     "metadata": {
      "needs_background": "light"
     },
     "output_type": "display_data"
    }
   ],
   "source": [
    "sns.displot(np.log(gcd_drop['Age']),kind='hist',kde=True) #Using log function to handle skewed Age data\n",
    "plt.show()"
   ]
  },
  {
   "cell_type": "code",
   "execution_count": 279,
   "id": "d7c83690",
   "metadata": {
    "scrolled": true
   },
   "outputs": [
    {
     "data": {
      "text/plain": [
       "0.41625371561149377"
      ]
     },
     "execution_count": 279,
     "metadata": {},
     "output_type": "execute_result"
    }
   ],
   "source": [
    "np.log(gcd_drop['Age']).skew() #Skewness of variable after applying log function"
   ]
  },
  {
   "cell_type": "markdown",
   "id": "74518f50",
   "metadata": {},
   "source": [
    "The distribution of the Age variable is now fairly symmetrical."
   ]
  },
  {
   "cell_type": "code",
   "execution_count": 280,
   "id": "9ef1ed56",
   "metadata": {},
   "outputs": [
    {
     "data": {
      "image/png": "[encoded data removed]",
      "text/plain": [
       "<Figure size 360x360 with 1 Axes>"
      ]
     },
     "metadata": {
      "needs_background": "light"
     },
     "output_type": "display_data"
    }
   ],
   "source": [
    "sns.displot(np.log(gcd_drop['Credit amount']),kind='hist',kde=True) #Using log function to handle skewed Credit amount data\n",
    "plt.show()"
   ]
  },
  {
   "cell_type": "code",
   "execution_count": 281,
   "id": "0643de6d",
   "metadata": {},
   "outputs": [
    {
     "data": {
      "text/plain": [
       "0.12928589230467"
      ]
     },
     "execution_count": 281,
     "metadata": {},
     "output_type": "execute_result"
    }
   ],
   "source": [
    "np.log(gcd_drop['Credit amount']).skew() #Skewness of variable after applying log function"
   ]
  },
  {
   "cell_type": "markdown",
   "id": "ef18034e",
   "metadata": {},
   "source": [
    "The distribution of the Credit amount variable is now fairly symmetrical."
   ]
  },
  {
   "cell_type": "code",
   "execution_count": 282,
   "id": "ea6db8f1",
   "metadata": {},
   "outputs": [
    {
     "data": {
      "image/png": "[encoded data removed]",
      "text/plain": [
       "<Figure size 360x360 with 1 Axes>"
      ]
     },
     "metadata": {
      "needs_background": "light"
     },
     "output_type": "display_data"
    }
   ],
   "source": [
    "sns.displot(np.log(gcd_drop['Duration']),kind='hist',kde=True) #Using log function to handle skewed Duration data\n",
    "plt.show()"
   ]
  },
  {
   "cell_type": "code",
   "execution_count": 283,
   "id": "7ff52cd8",
   "metadata": {},
   "outputs": [
    {
     "data": {
      "text/plain": [
       "-0.1274144478919352"
      ]
     },
     "execution_count": 283,
     "metadata": {},
     "output_type": "execute_result"
    }
   ],
   "source": [
    "np.log(gcd_drop['Duration']).skew() #Skewness of variable after applying log function"
   ]
  },
  {
   "cell_type": "markdown",
   "id": "b3c972c2",
   "metadata": {},
   "source": [
    "The distribution of the Duration variable is now fairly symmetrical."
   ]
  },
  {
   "cell_type": "markdown",
   "id": "5730874e",
   "metadata": {},
   "source": [
    "##### Before and After Applying Log Function to Skewed Data"
   ]
  },
  {
   "cell_type": "markdown",
   "id": "24ad7a26",
   "metadata": {},
   "source": [
    "| Variable | Before Log Function | After Log Function |\n",
    "|---|---|---|\n",
    "| Age | Highly Right Skewed (1.02) | Fairly Symmetrical (0.41) |\n",
    "| Credit amount | Highly Right Skewed (1.94) | Fairly Symmetrical (0.12) |\n",
    "| Duration | Highly Right Skewed (1.09) | Fairly Symmetrical (-0.12) |"
   ]
  },
  {
   "cell_type": "markdown",
   "id": "bcc8e97a",
   "metadata": {},
   "source": [
    "All the numeric highly skewed data have been handled."
   ]
  },
  {
   "cell_type": "markdown",
   "id": "b78470c0",
   "metadata": {},
   "source": [
    "### Outliers in Numeric Data"
   ]
  },
  {
   "cell_type": "code",
   "execution_count": 284,
   "id": "203785e1",
   "metadata": {
    "scrolled": true
   },
   "outputs": [
    {
     "name": "stderr",
     "output_type": "stream",
     "text": [
      "C:\\Users\\Nikhil\\anaconda3\\lib\\site-packages\\seaborn\\_decorators.py:36: FutureWarning: Pass the following variable as a keyword arg: x. From version 0.12, the only valid positional argument will be `data`, and passing other arguments without an explicit keyword will result in an error or misinterpretation.\n",
      "  warnings.warn(\n"
     ]
    },
    {
     "data": {
      "image/png": "[encoded data removed]",
      "text/plain": [
       "<Figure size 432x288 with 1 Axes>"
      ]
     },
     "metadata": {
      "needs_background": "light"
     },
     "output_type": "display_data"
    }
   ],
   "source": [
    "sns.boxplot(gcd_drop['Age']) #Plotting boxplot to see if variable contains any outliers\n",
    "plt.show()"
   ]
  },
  {
   "cell_type": "markdown",
   "id": "8e0c7dd6",
   "metadata": {},
   "source": [
    "The variable Age contains outliers."
   ]
  },
  {
   "cell_type": "code",
   "execution_count": 285,
   "id": "ba601807",
   "metadata": {},
   "outputs": [],
   "source": [
    "#Counting 5 point summary and handling the outliers in variable\n",
    "Age_q1=np.quantile(gcd_drop['Age'],0.25)\n",
    "Age_q2=np.quantile(gcd_drop['Age'],0.50)\n",
    "Age_q3=np.quantile(gcd_drop['Age'],0.75)\n",
    "Age_IQR=Age_q3 - Age_q1\n",
    "Age_UpperWhisker= Age_q3+(Age_IQR*1.5)\n",
    "Age_LowerWhisker= Age_q1-(Age_IQR*1.5)"
   ]
  },
  {
   "cell_type": "code",
   "execution_count": 286,
   "id": "cb861273",
   "metadata": {},
   "outputs": [],
   "source": [
    "gcd_drop['Age']= np.where(gcd_drop['Age']>Age_UpperWhisker,\n",
    "                          Age_UpperWhisker,gcd_drop['Age']) #Calculationg and Removing Outliers"
   ]
  },
  {
   "cell_type": "code",
   "execution_count": 287,
   "id": "84192646",
   "metadata": {
    "scrolled": true
   },
   "outputs": [
    {
     "name": "stderr",
     "output_type": "stream",
     "text": [
      "C:\\Users\\Nikhil\\anaconda3\\lib\\site-packages\\seaborn\\_decorators.py:36: FutureWarning: Pass the following variable as a keyword arg: x. From version 0.12, the only valid positional argument will be `data`, and passing other arguments without an explicit keyword will result in an error or misinterpretation.\n",
      "  warnings.warn(\n"
     ]
    },
    {
     "data": {
      "image/png": "[encoded data removed]",
      "text/plain": [
       "<Figure size 432x288 with 1 Axes>"
      ]
     },
     "metadata": {
      "needs_background": "light"
     },
     "output_type": "display_data"
    }
   ],
   "source": [
    "sns.boxplot(gcd_drop['Age']) #Plotting boxplot to see if there is still any outlier\n",
    "plt.show()"
   ]
  },
  {
   "cell_type": "markdown",
   "id": "5bb019c5",
   "metadata": {},
   "source": [
    "It can be seen, the outliers in the variable Age have been handled."
   ]
  },
  {
   "cell_type": "code",
   "execution_count": 288,
   "id": "988e424b",
   "metadata": {
    "scrolled": true
   },
   "outputs": [
    {
     "name": "stderr",
     "output_type": "stream",
     "text": [
      "C:\\Users\\Nikhil\\anaconda3\\lib\\site-packages\\seaborn\\_decorators.py:36: FutureWarning: Pass the following variable as a keyword arg: x. From version 0.12, the only valid positional argument will be `data`, and passing other arguments without an explicit keyword will result in an error or misinterpretation.\n",
      "  warnings.warn(\n"
     ]
    },
    {
     "data": {
      "image/png": "[encoded data removed]",
      "text/plain": [
       "<Figure size 432x288 with 1 Axes>"
      ]
     },
     "metadata": {
      "needs_background": "light"
     },
     "output_type": "display_data"
    }
   ],
   "source": [
    "sns.boxplot(gcd_drop['Credit amount']) #Plotting boxplot to see if variable contains any outliers\n",
    "plt.show()"
   ]
  },
  {
   "cell_type": "markdown",
   "id": "8e84c596",
   "metadata": {},
   "source": [
    "The variable Age contains outliers."
   ]
  },
  {
   "cell_type": "code",
   "execution_count": 289,
   "id": "fb6b7517",
   "metadata": {},
   "outputs": [],
   "source": [
    "#Counting 5 point summary and handling the outliers in variable\n",
    "CreditAmount_q1=np.quantile(gcd_drop['Credit amount'],0.25)\n",
    "CreditAmount_q2=np.quantile(gcd_drop['Credit amount'],0.50)\n",
    "CreditAmount_q3=np.quantile(gcd_drop['Credit amount'],0.75)\n",
    "CreditAmount_IQR=CreditAmount_q3 - CreditAmount_q1\n",
    "CreditAmount_UpperWhisker= CreditAmount_q3+(CreditAmount_IQR*1.5)\n",
    "CreditAmount_LowerWhisker= CreditAmount_q1-(CreditAmount_IQR*1.5)"
   ]
  },
  {
   "cell_type": "code",
   "execution_count": 290,
   "id": "1f1522e0",
   "metadata": {},
   "outputs": [],
   "source": [
    "gcd_drop['Credit amount']= np.where(gcd_drop['Credit amount']>CreditAmount_UpperWhisker, \n",
    "                          CreditAmount_UpperWhisker,gcd_drop['Credit amount']) #Calculationg and Removing Outliers"
   ]
  },
  {
   "cell_type": "code",
   "execution_count": 291,
   "id": "c962ed72",
   "metadata": {
    "scrolled": true
   },
   "outputs": [
    {
     "name": "stderr",
     "output_type": "stream",
     "text": [
      "C:\\Users\\Nikhil\\anaconda3\\lib\\site-packages\\seaborn\\_decorators.py:36: FutureWarning: Pass the following variable as a keyword arg: x. From version 0.12, the only valid positional argument will be `data`, and passing other arguments without an explicit keyword will result in an error or misinterpretation.\n",
      "  warnings.warn(\n"
     ]
    },
    {
     "data": {
      "image/png": "[encoded data removed]",
      "text/plain": [
       "<Figure size 432x288 with 1 Axes>"
      ]
     },
     "metadata": {
      "needs_background": "light"
     },
     "output_type": "display_data"
    }
   ],
   "source": [
    "sns.boxplot(gcd_drop['Credit amount']) #Plotting boxplot to see if there is still any outlier\n",
    "plt.show()"
   ]
  },
  {
   "cell_type": "markdown",
   "id": "e1252569",
   "metadata": {},
   "source": [
    "It can be seen, the outliers in the variable Credit amount have been handled."
   ]
  },
  {
   "cell_type": "code",
   "execution_count": 292,
   "id": "481da5b3",
   "metadata": {
    "scrolled": false
   },
   "outputs": [
    {
     "name": "stderr",
     "output_type": "stream",
     "text": [
      "C:\\Users\\Nikhil\\anaconda3\\lib\\site-packages\\seaborn\\_decorators.py:36: FutureWarning: Pass the following variable as a keyword arg: x. From version 0.12, the only valid positional argument will be `data`, and passing other arguments without an explicit keyword will result in an error or misinterpretation.\n",
      "  warnings.warn(\n"
     ]
    },
    {
     "data": {
      "image/png": "[encoded data removed]",
      "text/plain": [
       "<Figure size 432x288 with 1 Axes>"
      ]
     },
     "metadata": {
      "needs_background": "light"
     },
     "output_type": "display_data"
    }
   ],
   "source": [
    "sns.boxplot(gcd_drop['Duration']) #Plotting boxplot to see if variable contains any outliers\n",
    "plt.show()"
   ]
  },
  {
   "cell_type": "markdown",
   "id": "60927e9c",
   "metadata": {},
   "source": [
    "The variable Age contains outliers."
   ]
  },
  {
   "cell_type": "code",
   "execution_count": 293,
   "id": "e41ae9fd",
   "metadata": {},
   "outputs": [],
   "source": [
    "#Counting 5 point summary and handling the outliers in variable\n",
    "Duration_q1=np.quantile(gcd_drop['Duration'],0.25)\n",
    "Duration_q2=np.quantile(gcd_drop['Duration'],0.50)\n",
    "Duration_q3=np.quantile(gcd_drop['Duration'],0.75)\n",
    "Duration_IQR=Duration_q3 - Duration_q1\n",
    "Duration_UpperWhisker= Duration_q3+(Duration_IQR*1.5)\n",
    "Duration_LowerWhisker= Duration_q1-(Duration_IQR*1.5)"
   ]
  },
  {
   "cell_type": "code",
   "execution_count": 294,
   "id": "6c37ed8b",
   "metadata": {},
   "outputs": [],
   "source": [
    "gcd_drop['Duration']= np.where(gcd_drop['Duration']>Duration_UpperWhisker,\n",
    "                               Duration_UpperWhisker,gcd_drop['Duration']) #Calculationg and Removing Outliers"
   ]
  },
  {
   "cell_type": "code",
   "execution_count": 295,
   "id": "1e8fe195",
   "metadata": {
    "scrolled": true
   },
   "outputs": [
    {
     "name": "stderr",
     "output_type": "stream",
     "text": [
      "C:\\Users\\Nikhil\\anaconda3\\lib\\site-packages\\seaborn\\_decorators.py:36: FutureWarning: Pass the following variable as a keyword arg: x. From version 0.12, the only valid positional argument will be `data`, and passing other arguments without an explicit keyword will result in an error or misinterpretation.\n",
      "  warnings.warn(\n"
     ]
    },
    {
     "data": {
      "image/png": "[encoded data removed]",
      "text/plain": [
       "<Figure size 432x288 with 1 Axes>"
      ]
     },
     "metadata": {
      "needs_background": "light"
     },
     "output_type": "display_data"
    }
   ],
   "source": [
    "sns.boxplot(gcd_drop['Duration']) #Plotting boxplot to see if there is still any outlier\n",
    "plt.show()"
   ]
  },
  {
   "cell_type": "markdown",
   "id": "271790ba",
   "metadata": {},
   "source": [
    "It can be seen, the outliers in the variable Duration have been handled."
   ]
  },
  {
   "cell_type": "markdown",
   "id": "d447d6df",
   "metadata": {},
   "source": [
    "### Distribution Of All Variables"
   ]
  },
  {
   "cell_type": "markdown",
   "id": "d8284c14",
   "metadata": {},
   "source": [
    "##### Distribution of Numeric Variables"
   ]
  },
  {
   "cell_type": "code",
   "execution_count": 242,
   "id": "6c3e1a50",
   "metadata": {
    "scrolled": false
   },
   "outputs": [
    {
     "data": {
      "image/png": "[encoded data removed]",
      "text/plain": [
       "<Figure size 360x360 with 1 Axes>"
      ]
     },
     "metadata": {
      "needs_background": "light"
     },
     "output_type": "display_data"
    }
   ],
   "source": [
    "sns.displot(gcd['Age'],kind='hist',kde=True) #To Check distribution of variable\n",
    "plt.show()"
   ]
  },
  {
   "cell_type": "markdown",
   "id": "f77744c6",
   "metadata": {},
   "source": [
    "Here, the distribution of Age variable is shown.\n",
    "It can be seen that, the age variable is highly distributed between age of 22 to 35, which results to right skewness.\n",
    "This skewness of the Age variable has been handled previously by Log function."
   ]
  },
  {
   "cell_type": "code",
   "execution_count": 301,
   "id": "2160a233",
   "metadata": {
    "scrolled": false
   },
   "outputs": [
    {
     "data": {
      "image/png": "[encoded data removed]",
      "text/plain": [
       "<Figure size 720x360 with 1 Axes>"
      ]
     },
     "metadata": {
      "needs_background": "light"
     },
     "output_type": "display_data"
    }
   ],
   "source": [
    "sns.displot(gcd['Credit amount'],kind='hist',kde=True,aspect=2) #To Check distribution of variable\n",
    "plt.show()"
   ]
  },
  {
   "cell_type": "markdown",
   "id": "df68c61a",
   "metadata": {},
   "source": [
    "Here, the distribution of Credit amount variable is shown.\n",
    "It can be seen that, the Credit amount variable is highly distributed between amount of 1000 to 2500, which results to right skewness.\n",
    "This skewness of the Credit amount variable has been handled previously by Log function."
   ]
  },
  {
   "cell_type": "code",
   "execution_count": 244,
   "id": "a6313284",
   "metadata": {
    "scrolled": false
   },
   "outputs": [
    {
     "data": {
      "image/png": "[encoded data removed]",
      "text/plain": [
       "<Figure size 360x360 with 1 Axes>"
      ]
     },
     "metadata": {
      "needs_background": "light"
     },
     "output_type": "display_data"
    }
   ],
   "source": [
    "sns.displot(gcd['Duration'],kind='hist',kde=True) #To Check distribution of variable\n",
    "plt.show()"
   ]
  },
  {
   "cell_type": "markdown",
   "id": "359d1901",
   "metadata": {},
   "source": [
    "Here, the distribution of Duration variable has shown.\n",
    "It can be seen that, the Duration variable is varying highly between 12 to 22 months, which results to right skewness.\n",
    "This skewness of the Duration variable has been handled previously by Log function."
   ]
  },
  {
   "cell_type": "markdown",
   "id": "e2cbf783",
   "metadata": {},
   "source": [
    "##### Distribution of Categorical variables"
   ]
  },
  {
   "cell_type": "code",
   "execution_count": 245,
   "id": "50797a8c",
   "metadata": {
    "scrolled": false
   },
   "outputs": [
    {
     "name": "stderr",
     "output_type": "stream",
     "text": [
      "C:\\Users\\Nikhil\\anaconda3\\lib\\site-packages\\seaborn\\_decorators.py:36: FutureWarning: Pass the following variable as a keyword arg: x. From version 0.12, the only valid positional argument will be `data`, and passing other arguments without an explicit keyword will result in an error or misinterpretation.\n",
      "  warnings.warn(\n"
     ]
    },
    {
     "data": {
      "image/png": "[encoded data removed]",
      "text/plain": [
       "<Figure size 432x288 with 1 Axes>"
      ]
     },
     "metadata": {
      "needs_background": "light"
     },
     "output_type": "display_data"
    }
   ],
   "source": [
    "sns.countplot(gcd['Sex']) #To Check distribution of variable\n",
    "plt.show()"
   ]
  },
  {
   "cell_type": "markdown",
   "id": "7af6a734",
   "metadata": {},
   "source": [
    "The distribution of Sex variable is shown. The distribution of male is more than two times the distribution of female."
   ]
  },
  {
   "cell_type": "code",
   "execution_count": 246,
   "id": "cfe1bca2",
   "metadata": {
    "scrolled": true
   },
   "outputs": [
    {
     "name": "stderr",
     "output_type": "stream",
     "text": [
      "C:\\Users\\Nikhil\\anaconda3\\lib\\site-packages\\seaborn\\_decorators.py:36: FutureWarning: Pass the following variable as a keyword arg: x. From version 0.12, the only valid positional argument will be `data`, and passing other arguments without an explicit keyword will result in an error or misinterpretation.\n",
      "  warnings.warn(\n"
     ]
    },
    {
     "data": {
      "image/png": "[encoded data removed]",
      "text/plain": [
       "<Figure size 432x288 with 1 Axes>"
      ]
     },
     "metadata": {
      "needs_background": "light"
     },
     "output_type": "display_data"
    }
   ],
   "source": [
    "sns.countplot(gcd['Job']) #To Check distribution of variable\n",
    "plt.show()"
   ]
  },
  {
   "cell_type": "markdown",
   "id": "909635d2",
   "metadata": {},
   "source": [
    "The distribution of Job variable is shown. It can be seen the distribution of 'Skilled' people is high, followed by \n",
    "'Unskilled and Resident', 'Highly Skilled' and 'Unskilled and Non-Resident' people."
   ]
  },
  {
   "cell_type": "code",
   "execution_count": 247,
   "id": "66542cb8",
   "metadata": {
    "scrolled": false
   },
   "outputs": [
    {
     "name": "stderr",
     "output_type": "stream",
     "text": [
      "C:\\Users\\Nikhil\\anaconda3\\lib\\site-packages\\seaborn\\_decorators.py:36: FutureWarning: Pass the following variable as a keyword arg: x. From version 0.12, the only valid positional argument will be `data`, and passing other arguments without an explicit keyword will result in an error or misinterpretation.\n",
      "  warnings.warn(\n"
     ]
    },
    {
     "data": {
      "image/png": "[encoded data removed]",
      "text/plain": [
       "<Figure size 432x288 with 1 Axes>"
      ]
     },
     "metadata": {
      "needs_background": "light"
     },
     "output_type": "display_data"
    }
   ],
   "source": [
    "sns.countplot(gcd['Housing']) #To Check distribution of variable\n",
    "plt.show()"
   ]
  },
  {
   "cell_type": "markdown",
   "id": "b4cdff77",
   "metadata": {},
   "source": [
    "The distribution of Housing variable is shown. The distribution of people who own house are high followed by the people living on rent and the free housing."
   ]
  },
  {
   "cell_type": "code",
   "execution_count": 248,
   "id": "1ffd0fc5",
   "metadata": {
    "scrolled": true
   },
   "outputs": [
    {
     "name": "stderr",
     "output_type": "stream",
     "text": [
      "C:\\Users\\Nikhil\\anaconda3\\lib\\site-packages\\seaborn\\_decorators.py:36: FutureWarning: Pass the following variable as a keyword arg: x. From version 0.12, the only valid positional argument will be `data`, and passing other arguments without an explicit keyword will result in an error or misinterpretation.\n",
      "  warnings.warn(\n"
     ]
    },
    {
     "data": {
      "image/png": "[encoded data removed]",
      "text/plain": [
       "<Figure size 432x288 with 1 Axes>"
      ]
     },
     "metadata": {
      "needs_background": "light"
     },
     "output_type": "display_data"
    }
   ],
   "source": [
    "sns.countplot(gcd['Saving accounts']) #To Check distribution of variable\n",
    "plt.show()"
   ]
  },
  {
   "cell_type": "markdown",
   "id": "962040d2",
   "metadata": {},
   "source": [
    "The distribution of Saving accounts variable is shown. The distribution of account with little savings are high followed by the moderate , quite rich and rich accounts."
   ]
  },
  {
   "cell_type": "code",
   "execution_count": 249,
   "id": "6a16c56d",
   "metadata": {
    "scrolled": true
   },
   "outputs": [
    {
     "name": "stderr",
     "output_type": "stream",
     "text": [
      "C:\\Users\\Nikhil\\anaconda3\\lib\\site-packages\\seaborn\\_decorators.py:36: FutureWarning: Pass the following variable as a keyword arg: x. From version 0.12, the only valid positional argument will be `data`, and passing other arguments without an explicit keyword will result in an error or misinterpretation.\n",
      "  warnings.warn(\n"
     ]
    },
    {
     "data": {
      "image/png": "[encoded data removed]",
      "text/plain": [
       "<Figure size 432x288 with 1 Axes>"
      ]
     },
     "metadata": {
      "needs_background": "light"
     },
     "output_type": "display_data"
    }
   ],
   "source": [
    "sns.countplot(gcd['Checking account']) #To Check distribution of variable\n",
    "plt.show() "
   ]
  },
  {
   "cell_type": "markdown",
   "id": "60529ef7",
   "metadata": {},
   "source": [
    "The distribution of Checking account variable is shown. It can be seen that the distribution of little account is high followed by the moderate account and rich account."
   ]
  },
  {
   "cell_type": "code",
   "execution_count": 250,
   "id": "030f55ec",
   "metadata": {
    "scrolled": false
   },
   "outputs": [
    {
     "name": "stderr",
     "output_type": "stream",
     "text": [
      "C:\\Users\\Nikhil\\anaconda3\\lib\\site-packages\\seaborn\\_decorators.py:36: FutureWarning: Pass the following variable as a keyword arg: x. From version 0.12, the only valid positional argument will be `data`, and passing other arguments without an explicit keyword will result in an error or misinterpretation.\n",
      "  warnings.warn(\n"
     ]
    },
    {
     "data": {
      "image/png": "[encoded data removed]",
      "text/plain": [
       "<Figure size 864x360 with 1 Axes>"
      ]
     },
     "metadata": {
      "needs_background": "light"
     },
     "output_type": "display_data"
    }
   ],
   "source": [
    "plt.figure(figsize=(12,5)) #To Check distribution of variable\n",
    "sns.countplot(gcd['Purpose'])\n",
    "plt.show()"
   ]
  },
  {
   "cell_type": "markdown",
   "id": "0710cf75",
   "metadata": {},
   "source": [
    "The distribution of Purpose variable is shown. From the distribution it is clear that, more number of people are saving for the expense of car, fowllowed by radio/TV, furniture/equipment, business and education. Very few people are saving for domestic appliances, repairs and vacation/others."
   ]
  },
  {
   "cell_type": "markdown",
   "id": "2bdc02fc",
   "metadata": {},
   "source": [
    "##### Numerical Vs. Categorical Plot"
   ]
  },
  {
   "cell_type": "code",
   "execution_count": 251,
   "id": "95c09829",
   "metadata": {
    "scrolled": true
   },
   "outputs": [
    {
     "data": {
      "image/png": "[encoded data removed]",
      "text/plain": [
       "<Figure size 432x288 with 1 Axes>"
      ]
     },
     "metadata": {
      "needs_background": "light"
     },
     "output_type": "display_data"
    }
   ],
   "source": [
    "sns.boxplot(x=gcd['Sex'], y=gcd['Age']) #To compare Age and Sex variable\n",
    "plt.show()"
   ]
  },
  {
   "cell_type": "markdown",
   "id": "e325e00c",
   "metadata": {},
   "source": [
    "The boxplot between Age and Sex has been plotted. It can be seen that there are more males with varying age with accounts compared to the number of females with accounts."
   ]
  },
  {
   "cell_type": "code",
   "execution_count": 252,
   "id": "f0422dc7",
   "metadata": {},
   "outputs": [
    {
     "data": {
      "image/png": "[encoded data removed]",
      "text/plain": [
       "<Figure size 432x288 with 1 Axes>"
      ]
     },
     "metadata": {
      "needs_background": "light"
     },
     "output_type": "display_data"
    }
   ],
   "source": [
    "sns.boxplot(x=gcd['Sex'], y=gcd['Credit amount']) #To compare Credit Amount and Sex variable\n",
    "plt.show()"
   ]
  },
  {
   "cell_type": "markdown",
   "id": "39caa351",
   "metadata": {},
   "source": [
    "The boxplot between Credit amount and Sex has been plotted. It can be seen that maleshas more varying credit amount as compared to the females."
   ]
  },
  {
   "cell_type": "code",
   "execution_count": 253,
   "id": "409d59d5",
   "metadata": {
    "scrolled": false
   },
   "outputs": [
    {
     "data": {
      "image/png": "[encoded data removed]",
      "text/plain": [
       "<Figure size 432x288 with 1 Axes>"
      ]
     },
     "metadata": {
      "needs_background": "light"
     },
     "output_type": "display_data"
    }
   ],
   "source": [
    "sns.boxplot(x=gcd['Sex'], y=gcd['Duration']) #To compare Duration and Sex variable\n",
    "plt.show()"
   ]
  },
  {
   "cell_type": "markdown",
   "id": "dd2c4d90",
   "metadata": {},
   "source": [
    "The boxplot between Duration and Sex has been plotted. It can be seen that males has more variation in the duration of months than the females."
   ]
  },
  {
   "cell_type": "markdown",
   "id": "8c6cc22e",
   "metadata": {},
   "source": [
    "##### Numerical Vs. Numerical Plot"
   ]
  },
  {
   "cell_type": "code",
   "execution_count": 254,
   "id": "a82e9512",
   "metadata": {},
   "outputs": [
    {
     "data": {
      "image/png": "[encoded data removed]",
      "text/plain": [
       "<Figure size 540x540 with 12 Axes>"
      ]
     },
     "metadata": {
      "needs_background": "light"
     },
     "output_type": "display_data"
    }
   ],
   "source": [
    "sns.pairplot(gcd.drop(['Unnamed: 0','Job'],axis=1)) #Plotting Numeric against numeric variable\n",
    "plt.show()"
   ]
  },
  {
   "cell_type": "markdown",
   "id": "b4cabd5a",
   "metadata": {},
   "source": [
    "The numeric against numeric plot has been plotted.\n",
    "\n",
    "#### Age Vs. Credit amount\n",
    "It can be seen that, in Age Vs. Credit amount plot, more number of people in all age are having credit amount less than 5000. Few people with age between 20 to 50 are having credit amount between 5000 to 10000. Very few people between age 25 to 45 are having Credit amount between 10000 to 15000. \n",
    "#### Age Vs. Duration\n",
    "It can be seen that, in Age Vs. Duration plot, most of the people of age between 18 to 55  are having duration of their account between 0 to 40 months. Few people of age more than 55, having duration of their account between 0 to 30 months. Very few people of age between 20 to 60, having duration of their account between 45 to 60 months.\n",
    "#### Credit amount Vs. Duration\n",
    "It can be seen that, in Credit amount Vs. Duration plot, most of the account with Credit amount under 10000 has a duration less than 30 months. Some account with Credit amount between 2000 to 15000 has a duration between 35 to 45 months. Very few accounts with Credit amount between 5000 to 15000 has a duration between 50 to 60 months."
   ]
  },
  {
   "cell_type": "markdown",
   "id": "44fc6f61",
   "metadata": {},
   "source": [
    "### Conclusion:\n",
    "Around 350 people between age 25 to 45, has credit amount around 10000 with duration less than 30 months."
   ]
  }
 ],
 "metadata": {
  "kernelspec": {
   "display_name": "Python 3",
   "language": "python",
   "name": "python3"
  },
  "language_info": {
   "codemirror_mode": {
    "name": "ipython",
    "version": 3
   },
   "file_extension": ".py",
   "mimetype": "text/x-python",
   "name": "python",
   "nbconvert_exporter": "python",
   "pygments_lexer": "ipython3",
   "version": "3.8.8"
  }
 },
 "nbformat": 4,
 "nbformat_minor": 5
}
